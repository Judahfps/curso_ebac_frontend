{
  "nbformat": 4,
  "nbformat_minor": 0,
  "metadata": {
    "colab": {
      "provenance": [],
      "mount_file_id": "1orSFVNAFX8I2dh_j3V5UPY4kqtbOxZTo",
      "authorship_tag": "ABX9TyOKjjxdKeIfQqfaVwniRz4J",
      "include_colab_link": true
    },
    "kernelspec": {
      "name": "python3",
      "display_name": "Python 3"
    },
    "language_info": {
      "name": "python"
    }
  },
  "cells": [
    {
      "cell_type": "markdown",
      "metadata": {
        "id": "view-in-github",
        "colab_type": "text"
      },
      "source": [
        "<a href=\"https://colab.research.google.com/github/Judahfps/curso_ebac_frontend/blob/main/exer_modulo03.ipynb\" target=\"_parent\"><img src=\"https://colab.research.google.com/assets/colab-badge.svg\" alt=\"Open In Colab\"/></a>"
      ]
    },
    {
      "cell_type": "code",
      "execution_count": null,
      "metadata": {
        "id": "CBd8JmOeNW8h"
      },
      "outputs": [],
      "source": [
        "propaganda_online = [\n",
        "{'tempo_gasto_site': 68.95, 'idade': 35, 'renda_area': 61833.90,\n",
        "'tempo_gasto_internet': 256.09, 'cidade': 'Wrightburgh',\n",
        "'pais': 'Tunisia', 'clicou_no_ad': 0\n",
        "},\n",
        "\n",
        "{'tempo_gasto_site': 80.23, 'idade': 31, 'renda_area': 68441.85,\n",
        "'tempo_gasto_internet': 193.77, 'cidade': 'West Jodi',\n",
        "'pais': 'Nauru', 'clicou_no_ad': 0\n",
        "},\n",
        "\n",
        "{'tempo_gasto_site': 69.47, 'idade': 26, 'renda_area': 59785.94,\n",
        "'tempo_gasto_internet': 236.50, 'cidade': 'Davidton',\n",
        "'pais': 'San Marino', 'clicou_no_ad': 0\n",
        "},\n",
        "\n",
        "{'tempo_gasto_site': 68.37, 'idade': 35, 'renda_area': 73889.99,\n",
        "'tempo_gasto_internet': 225.58, 'cidade': 'South Manuel',\n",
        "'pais': 'Iceland', 'clicou_no_ad': 0\n",
        "},\n",
        "\n",
        "{'tempo_gasto_site': 88.91, 'idade': 33, 'renda_area': 53852.85,\n",
        " 'tempo_gasto_internet': 208.36, 'cidade': 'Brandonstad',\n",
        "'pais': 'Myanmar', 'clicou_no_ad': 0\n",
        "},\n",
        "\n",
        "{'tempo_gasto_site': None, 'idade': 48, 'renda_area': 24593.33,\n",
        "'tempo_gasto_internet': 131.76, 'cidade': 'Port Jefferybury',\n",
        "'pais': 'Australia', 'clicou_no_ad': 1\n",
        "},\n",
        "\n",
        "{'tempo_gasto_site': 74.53, 'idade': 30, 'renda_area': 68862.00,\n",
        "'tempo_gasto_internet': 221.51, 'cidade': 'West Colin',\n",
        "'pais': 'Grenada'\n",
        "},\n",
        "\n",
        "{'tempo_gasto_site': 69.88, 'idade': 20, 'renda_area': 55642.32,\n",
        "'tempo_gasto_internet': 183.82, 'cidade': 'Ramirezton',\n",
        "'pais': 'Ghana', 'clicou_no_ad': 0\n",
        "}\n",
        "]\n",
        "print(len(propaganda_online))\n",
        "print(type(propaganda_online))\n"
      ]
    },
    {
      "cell_type": "code",
      "source": [
        "for dado_de_usuario in propaganda_online:\n",
        "  print(dado_de_usuario)\n",
        "  print('=-'*90)\n",
        "  print('\\n')\n",
        "dado_de_usuario['idade']"
      ],
      "metadata": {
        "id": "utlk6ufROggi"
      },
      "execution_count": null,
      "outputs": []
    },
    {
      "cell_type": "code",
      "source": [
        "# Criando uma lista chamada paises com usuários com mais de 30 anos.\n",
        "\n",
        "paises = []\n",
        "cont_pais = 0\n",
        "for dado_de_usuario in propaganda_online:\n",
        "\n",
        "    if dado_de_usuario['idade'] > 30:\n",
        "        cont_pais += 1\n",
        "        print(dado_de_usuario['pais'])\n",
        "        print('=-'*60)\n",
        "        paises = paises + [dado_de_usuario['pais']]\n",
        "print(f'A quantidade de paises com usuários com mais de 30 anos é: \\033[33m{cont_pais}\\033[!. \\nE aqui estar os seus nomes: \\033[32m{paises}\\033[')\n",
        "print('=-'*60)\n",
        "print('Acabou!')"
      ],
      "metadata": {
        "id": "eteDOJpWRlbq"
      },
      "execution_count": null,
      "outputs": []
    },
    {
      "cell_type": "code",
      "source": [
        "# Criando uma lista com a renda dos usuários que clicaram na propaganda\n",
        "\n",
        "leads = []\n",
        "cont_renda = 0\n",
        "\n",
        "for dado_de_usuario in propaganda_online:\n",
        "  try:\n",
        "    if dado_de_usuario['clicou_no_ad'] > 0:\n",
        "      cont_renda += 1\n",
        "      #print(dado_de_usuario['renda_area'])\n",
        "      leads = leads + [dado_de_usuario['renda_area']]\n",
        "  except KeyError:\n",
        "      print('Dentro da sua lista de dicionários exite um dicionário que não contem a chave \"\\033[32mclicou_no_ad\"\\033[')\n",
        "#como a inteiração encontrou um item pesquisado ele estar printando o que ele encontrou.\n",
        "print(f'A quantidade de usuários que clicaram na propagando é: \\033[32m{cont_renda}\\033[')\n",
        "print(f'\\033[32m{leads}\\033[')"
      ],
      "metadata": {
        "id": "VhU4iTBv17rS"
      },
      "execution_count": null,
      "outputs": []
    },
    {
      "cell_type": "code",
      "source": [
        "cidades = []\n",
        "\n",
        "for dado_de_usuario in propaganda_online:\n",
        "  try:\n",
        "    if dado_de_usuario['tempo_gasto_site'] > 70:\n",
        "      cidades = cidades + [dado_de_usuario['cidade']]\n",
        "  except TypeError:\n",
        "    cidades = cidades + [dado_de_usuario['cidade']]\n",
        "  finally:\n",
        "    print(cidades)\n"
      ],
      "metadata": {
        "id": "e1N-PqLbZy5i"
      },
      "execution_count": null,
      "outputs": []
    },
    {
      "cell_type": "code",
      "source": [
        "from ast import Index\n",
        "for dado_de_usuario in propaganda_online:\n",
        "  if dado_de_usuario['tempo_gasto_site'] == None:\n",
        ""
      ],
      "metadata": {
        "colab": {
          "base_uri": "https://localhost:8080/"
        },
        "id": "T3egx9jAIc_4",
        "outputId": "37df944d-39a6-4295-9b78-88991a7eda73"
      },
      "execution_count": 54,
      "outputs": [
        {
          "output_type": "stream",
          "name": "stdout",
          "text": [
            "<class 'ast.Index'>\n"
          ]
        }
      ]
    }
  ]
}