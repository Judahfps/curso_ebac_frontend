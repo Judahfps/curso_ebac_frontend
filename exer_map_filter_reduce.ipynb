{
  "nbformat": 4,
  "nbformat_minor": 0,
  "metadata": {
    "colab": {
      "provenance": [],
      "authorship_tag": "ABX9TyOJrRXJI9fLpCFG91KXT74F",
      "include_colab_link": true
    },
    "kernelspec": {
      "name": "python3",
      "display_name": "Python 3"
    },
    "language_info": {
      "name": "python"
    }
  },
  "cells": [
    {
      "cell_type": "markdown",
      "metadata": {
        "id": "view-in-github",
        "colab_type": "text"
      },
      "source": [
        "<a href=\"https://colab.research.google.com/github/Judahfps/curso_ebac_frontend/blob/main/exer_map_filter_reduce.ipynb\" target=\"_parent\"><img src=\"https://colab.research.google.com/assets/colab-badge.svg\" alt=\"Open In Colab\"/></a>"
      ]
    },
    {
      "cell_type": "code",
      "execution_count": null,
      "metadata": {
        "id": "8ODfoMyhT2ZY"
      },
      "outputs": [],
      "source": [
        "%%writefile credito.csv\n",
        "id_vendedor,valor_emprestimos,quantidade_emprestimos,data\n",
        "104271,448.0,1,20161208\n",
        "21476,826.7,3,20161208\n",
        "87440,313.6,3,20161208\n",
        "15980,-8008.0,6,20161208\n",
        "215906,2212.0,5,20161208\n",
        "33696,2771.3,2,20161208\n",
        "33893,2240.0,3,20161208\n",
        "214946,-4151.0,18,20161208\n",
        "123974,2021.95,2,20161208\n",
        "225870,4039.0,2,20161208\n"
      ]
    },
    {
      "cell_type": "code",
      "source": [
        "emprestimos = []\n",
        "with open(file= './credito.csv', mode= 'r', encoding= 'utf8') as fp:\n",
        "  fp.readline()# lendo o cabeçalho\n",
        "  linha  = fp.readline()\n",
        "  while linha:\n",
        "    linha_emprestimo = {}\n",
        "    linha_elementos = linha.strip().split(sep=',')\n",
        "    linha_emprestimo['id_vendedor'] = linha_elementos[0]\n",
        "    linha_emprestimo['valor_emprestimo'] = linha_elementos[1]\n",
        "    linha_emprestimo['quantidade_emprestimo'] = linha_elementos[2]\n",
        "    linha_emprestimo['data'] = linha_elementos[3]\n",
        "    emprestimos.append(linha_emprestimo)\n",
        "    linha = fp.readline()\n",
        "\n",
        "print(emprestimos)\n"
      ],
      "metadata": {
        "id": "xMHTql4Qb7xf"
      },
      "execution_count": null,
      "outputs": []
    },
    {
      "cell_type": "code",
      "source": [
        "for emprestimo in emprestimos:\n",
        "  print(emprestimo)"
      ],
      "metadata": {
        "id": "CYrVyxR1g8B4"
      },
      "execution_count": null,
      "outputs": []
    },
    {
      "cell_type": "code",
      "source": [
        "# Função map\n",
        "\n",
        "valor_emprestimos_lista = list(map(lambda valor_emprestimo: float(valor_emprestimo['valor_emprestimo']), emprestimos))\n",
        "print('\\033[34m=-\\033['*50)\n",
        "print(valor_emprestimos_lista)\n",
        "print('\\033[34m=-\\033['*50)"
      ],
      "metadata": {
        "id": "hrLyalROjUYw"
      },
      "execution_count": null,
      "outputs": []
    },
    {
      "cell_type": "code",
      "source": [
        "\n",
        "# Função filter\n",
        "\n",
        "valor_emprestimos_lista_filtrada = list(filter(lambda numero: numero if numero > 0 else print(f'Error, foi encontrado esse número negativo: \\033[31m{numero}\\033['), valor_emprestimos_lista))\n",
        "print('\\033[34m=-\\033['*53)\n",
        "print(f'Esses são os números maiores que zero: \\033[32m{valor_emprestimos_lista_filtrada}\\033[')\n",
        "print('\\033[34m=-\\033['*53)\n",
        "len(valor_emprestimos_lista_filtrada)"
      ],
      "metadata": {
        "colab": {
          "base_uri": "https://localhost:8080/"
        },
        "id": "XxOQMEsN-E9W",
        "outputId": "d479014d-5d7e-4082-c0a8-ba0447c336fc"
      },
      "execution_count": 69,
      "outputs": [
        {
          "output_type": "stream",
          "name": "stdout",
          "text": [
            "Error, foi encontrado esse número negativo: \u001b[31m-8008.0\u001b[\n",
            "Error, foi encontrado esse número negativo: \u001b[31m-4151.0\u001b[\n",
            "\u001b[34m=-\u001b[\u001b[34m=-\u001b[\u001b[34m=-\u001b[\u001b[34m=-\u001b[\u001b[34m=-\u001b[\u001b[34m=-\u001b[\u001b[34m=-\u001b[\u001b[34m=-\u001b[\u001b[34m=-\u001b[\u001b[34m=-\u001b[\u001b[34m=-\u001b[\u001b[34m=-\u001b[\u001b[34m=-\u001b[\u001b[34m=-\u001b[\u001b[34m=-\u001b[\u001b[34m=-\u001b[\u001b[34m=-\u001b[\u001b[34m=-\u001b[\u001b[34m=-\u001b[\u001b[34m=-\u001b[\u001b[34m=-\u001b[\u001b[34m=-\u001b[\u001b[34m=-\u001b[\u001b[34m=-\u001b[\u001b[34m=-\u001b[\u001b[34m=-\u001b[\u001b[34m=-\u001b[\u001b[34m=-\u001b[\u001b[34m=-\u001b[\u001b[34m=-\u001b[\u001b[34m=-\u001b[\u001b[34m=-\u001b[\u001b[34m=-\u001b[\u001b[34m=-\u001b[\u001b[34m=-\u001b[\u001b[34m=-\u001b[\u001b[34m=-\u001b[\u001b[34m=-\u001b[\u001b[34m=-\u001b[\u001b[34m=-\u001b[\u001b[34m=-\u001b[\u001b[34m=-\u001b[\u001b[34m=-\u001b[\u001b[34m=-\u001b[\u001b[34m=-\u001b[\u001b[34m=-\u001b[\u001b[34m=-\u001b[\u001b[34m=-\u001b[\u001b[34m=-\u001b[\u001b[34m=-\u001b[\u001b[34m=-\u001b[\u001b[34m=-\u001b[\u001b[34m=-\u001b[\n",
            "Esses são os números maiores que zero: \u001b[32m[448.0, 826.7, 313.6, 2212.0, 2771.3, 2240.0, 2021.95, 4039.0]\u001b[\n",
            "\u001b[34m=-\u001b[\u001b[34m=-\u001b[\u001b[34m=-\u001b[\u001b[34m=-\u001b[\u001b[34m=-\u001b[\u001b[34m=-\u001b[\u001b[34m=-\u001b[\u001b[34m=-\u001b[\u001b[34m=-\u001b[\u001b[34m=-\u001b[\u001b[34m=-\u001b[\u001b[34m=-\u001b[\u001b[34m=-\u001b[\u001b[34m=-\u001b[\u001b[34m=-\u001b[\u001b[34m=-\u001b[\u001b[34m=-\u001b[\u001b[34m=-\u001b[\u001b[34m=-\u001b[\u001b[34m=-\u001b[\u001b[34m=-\u001b[\u001b[34m=-\u001b[\u001b[34m=-\u001b[\u001b[34m=-\u001b[\u001b[34m=-\u001b[\u001b[34m=-\u001b[\u001b[34m=-\u001b[\u001b[34m=-\u001b[\u001b[34m=-\u001b[\u001b[34m=-\u001b[\u001b[34m=-\u001b[\u001b[34m=-\u001b[\u001b[34m=-\u001b[\u001b[34m=-\u001b[\u001b[34m=-\u001b[\u001b[34m=-\u001b[\u001b[34m=-\u001b[\u001b[34m=-\u001b[\u001b[34m=-\u001b[\u001b[34m=-\u001b[\u001b[34m=-\u001b[\u001b[34m=-\u001b[\u001b[34m=-\u001b[\u001b[34m=-\u001b[\u001b[34m=-\u001b[\u001b[34m=-\u001b[\u001b[34m=-\u001b[\u001b[34m=-\u001b[\u001b[34m=-\u001b[\u001b[34m=-\u001b[\u001b[34m=-\u001b[\u001b[34m=-\u001b[\u001b[34m=-\u001b[\n"
          ]
        },
        {
          "output_type": "execute_result",
          "data": {
            "text/plain": [
              "8"
            ]
          },
          "metadata": {},
          "execution_count": 69
        }
      ]
    },
    {
      "cell_type": "code",
      "source": [
        "# Função reduce para extrair a soma\n",
        "\n",
        "from functools import reduce\n",
        "\n",
        "soma_valor_emprestimos = reduce(lambda x, y: x + y, valor_emprestimos_lista_filtrada)\n",
        "print('\\033[34m=-\\033['*10)\n",
        "print(soma_valor_emprestimos)\n",
        "print('\\033[34m=-\\033['*10)"
      ],
      "metadata": {
        "id": "tZ3VuhG8taAa"
      },
      "execution_count": null,
      "outputs": []
    },
    {
      "cell_type": "code",
      "source": [
        "# Media Aritimética\n",
        "\n",
        "from functools import reduce\n",
        "\n",
        "#1858.0687500000001\n",
        "media_valor_emprestimos = reduce(lambda x, y: x + y, valor_emprestimos_lista_filtrada) / len(valor_emprestimos_lista_filtrada)\n",
        "print(media_valor_emprestimos)"
      ],
      "metadata": {
        "id": "adC3bZpd6OZN"
      },
      "execution_count": null,
      "outputs": []
    },
    {
      "cell_type": "code",
      "source": [
        "# Desvio Padrão\n",
        "\n",
        "from functools import reduce\n",
        "import math\n",
        "\n",
        "\n",
        "desvio_padrao_valor_emprestimos =reduce(lambda x, y: x + (y - media_valor_emprestimos) ** 2, valor_emprestimos_lista_filtrada, 0) / 7\n",
        "print(math.sqrt(desvio_padrao_valor_emprestimos))"
      ],
      "metadata": {
        "colab": {
          "base_uri": "https://localhost:8080/"
        },
        "id": "Q5SPoNBPIAu9",
        "outputId": "51a29035-8194-41eb-e3fa-65f711fefdd5"
      },
      "execution_count": 64,
      "outputs": [
        {
          "output_type": "stream",
          "name": "stdout",
          "text": [
            "1271.9972711497849\n"
          ]
        }
      ]
    },
    {
      "cell_type": "code",
      "source": [
        "import statistics\n",
        "\n",
        "desvio_padrao = statistics.stdev(valor_emprestimos_lista_filtrada)\n",
        "print(desvio_padrao)"
      ],
      "metadata": {
        "id": "y4KCmlDOQfda"
      },
      "execution_count": null,
      "outputs": []
    },
    {
      "cell_type": "code",
      "source": [
        "\n",
        "from functools import reduce\n",
        "import math\n",
        "\n",
        "def calcula_media(lista):\n",
        "  return reduce(lambda x, y: x + y, lista) / len(lista)\n",
        "\n",
        "\n",
        "def calculo_desvio_padrao(lista):\n",
        "  media = calcula_media(lista)\n",
        "  variancia = reduce(lambda x, y: x + (y - media) ** 2, lista, 0) / len(lista)\n",
        "  desvio_padrao = math.sqrt(variancia)\n",
        "  return desvio_padrao\n",
        "\n",
        "\n",
        "\n",
        "lista = [448.0, 826.7, 313.6, 2212.0, 2771.3, 2240.0, 2021.95, 4039.0]\n",
        "\n",
        "desvio_padrao = calculo_desvio_padrao(lista)\n",
        "print(desvio_padrao)\n",
        "\n",
        "\n"
      ],
      "metadata": {
        "id": "MPyCg8gom_FN"
      },
      "execution_count": null,
      "outputs": []
    },
    {
      "cell_type": "code",
      "source": [
        "d = []\n",
        "#106306.60399104471\n",
        "\n",
        "for variancia in lista:\n",
        "  f = (variancia - 1859.0687500000001) ** 2\n",
        "  d.append(f)\n",
        "  print(d)"
      ],
      "metadata": {
        "id": "qn0fP7Z_lshI"
      },
      "execution_count": null,
      "outputs": []
    },
    {
      "cell_type": "code",
      "source": [
        "import math\n",
        "\n",
        "lista = [448.0, 826.7, 313.6, 2212.0, 2771.3, 2240.0, 2021.95, 4039.0]\n",
        "\n",
        "\n",
        "a = (448.0 - 1859.0687500000001) **2\n",
        "print(f'valor A: {a}')\n",
        "b = (826.7 - 1859.0687500000001) ** 2\n",
        "print('\\033[33m=-\\033['*20)\n",
        "print(f'valor B: {b}')\n",
        "c = (313.6 - 1859.0687500000001) ** 2\n",
        "print('\\033[33m=-\\033['*20)\n",
        "print(f'valor C: {c}')\n",
        "d = (2212.0 - 1859.0687500000001) ** 2\n",
        "print('\\033[33m=-\\033['*20)\n",
        "print(f'valor D: {d}')\n",
        "e = (2771.3 -1859.0687500000001) ** 2\n",
        "print('\\033[33m=-\\033['*20)\n",
        "print(f'valor E: {e}')\n",
        "f = (2240.0 - 1859.0687500000001) ** 2\n",
        "print('\\033[33m=-\\033['*20)\n",
        "print(f'valor F: {f}')\n",
        "g = (2021.95 - 1859.0687500000001) ** 2\n",
        "print('\\033[33m=-\\033['*20)\n",
        "print(f'valor G: {g}')\n",
        "h = (4039.0 - 1859.0687500000001) ** 2\n",
        "print('\\033[33m=-\\033['*20)\n",
        "print(f'valor H: {h}')\n",
        "print('\\033[33m=-\\033['*20)\n",
        "\n",
        "soma = (a + b + c + d + e + f + g + h) / 7\n",
        "print(f'Esse é o valor do Desvio Padão: \\033[31m{math.sqrt(soma)}\\033[')\n",
        "\n"
      ],
      "metadata": {
        "id": "OX6_nNzXaY39"
      },
      "execution_count": null,
      "outputs": []
    }
  ]
}