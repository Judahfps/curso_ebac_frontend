{
  "nbformat": 4,
  "nbformat_minor": 0,
  "metadata": {
    "colab": {
      "provenance": [],
      "authorship_tag": "ABX9TyM5W8Zh77WfSpmsKyc44lTw",
      "include_colab_link": true
    },
    "kernelspec": {
      "name": "python3",
      "display_name": "Python 3"
    },
    "language_info": {
      "name": "python"
    }
  },
  "cells": [
    {
      "cell_type": "markdown",
      "metadata": {
        "id": "view-in-github",
        "colab_type": "text"
      },
      "source": [
        "<a href=\"https://colab.research.google.com/github/Judahfps/curso_ebac_frontend/blob/main/exer_map_filter_reduce.ipynb\" target=\"_parent\"><img src=\"https://colab.research.google.com/assets/colab-badge.svg\" alt=\"Open In Colab\"/></a>"
      ]
    },
    {
      "cell_type": "code",
      "execution_count": 4,
      "metadata": {
        "id": "8ODfoMyhT2ZY",
        "colab": {
          "base_uri": "https://localhost:8080/"
        },
        "outputId": "0b58d954-3a4b-47ed-dade-40f0ee57db10"
      },
      "outputs": [
        {
          "output_type": "stream",
          "name": "stdout",
          "text": [
            "Writing credito.csv\n"
          ]
        }
      ],
      "source": [
        "%%writefile credito.csv\n",
        "id_vendedor,valor_emprestimos,quantidade_emprestimos,data\n",
        "104271,448.0,1,20161208\n",
        "21476,826.7,3,20161208\n",
        "87440,313.6,3,20161208\n",
        "15980,-8008.0,6,20161208\n",
        "215906,2212.0,5,20161208\n",
        "33696,2771.3,2,20161208\n",
        "33893,2240.0,3,20161208\n",
        "214946,-4151.0,18,20161208\n",
        "123974,2021.95,2,20161208\n",
        "225870,4039.0,2,20161208\n"
      ]
    },
    {
      "cell_type": "code",
      "source": [
        "emprestimos = []\n",
        "with open(file= './credito.csv', mode= 'r', encoding= 'utf8') as fp:\n",
        "  fp.readline()# lendo o cabeçalho\n",
        "  linha  = fp.readline()\n",
        "  while linha:\n",
        "    linha_emprestimo = {}\n",
        "    linha_elementos = linha.strip().split(sep=',')\n",
        "    linha_emprestimo['id_vendedor'] = linha_elementos[0]\n",
        "    linha_emprestimo['valor_emprestimo'] = linha_elementos[1]\n",
        "    linha_emprestimo['quantidade_emprestimo'] = linha_elementos[2]\n",
        "    linha_emprestimo['data'] = linha_elementos[3]\n",
        "    emprestimos.append(linha_emprestimo)\n",
        "    linha = fp.readline()\n",
        "\n",
        "print(emprestimos)\n"
      ],
      "metadata": {
        "id": "xMHTql4Qb7xf",
        "colab": {
          "base_uri": "https://localhost:8080/"
        },
        "outputId": "f7d47999-0628-4ace-abf6-838a7a6adfc8"
      },
      "execution_count": 5,
      "outputs": [
        {
          "output_type": "stream",
          "name": "stdout",
          "text": [
            "[{'id_vendedor': '104271', 'valor_emprestimo': '448.0', 'quantidade_emprestimo': '1', 'data': '20161208'}, {'id_vendedor': '21476', 'valor_emprestimo': '826.7', 'quantidade_emprestimo': '3', 'data': '20161208'}, {'id_vendedor': '87440', 'valor_emprestimo': '313.6', 'quantidade_emprestimo': '3', 'data': '20161208'}, {'id_vendedor': '15980', 'valor_emprestimo': '-8008.0', 'quantidade_emprestimo': '6', 'data': '20161208'}, {'id_vendedor': '215906', 'valor_emprestimo': '2212.0', 'quantidade_emprestimo': '5', 'data': '20161208'}, {'id_vendedor': '33696', 'valor_emprestimo': '2771.3', 'quantidade_emprestimo': '2', 'data': '20161208'}, {'id_vendedor': '33893', 'valor_emprestimo': '2240.0', 'quantidade_emprestimo': '3', 'data': '20161208'}, {'id_vendedor': '214946', 'valor_emprestimo': '-4151.0', 'quantidade_emprestimo': '18', 'data': '20161208'}, {'id_vendedor': '123974', 'valor_emprestimo': '2021.95', 'quantidade_emprestimo': '2', 'data': '20161208'}, {'id_vendedor': '225870', 'valor_emprestimo': '4039.0', 'quantidade_emprestimo': '2', 'data': '20161208'}]\n"
          ]
        }
      ]
    },
    {
      "cell_type": "code",
      "source": [
        "for emprestimo in emprestimos:\n",
        "  print(emprestimo)"
      ],
      "metadata": {
        "id": "CYrVyxR1g8B4",
        "colab": {
          "base_uri": "https://localhost:8080/"
        },
        "outputId": "82841fcd-ce83-492d-e6fe-bb0467e59471"
      },
      "execution_count": 6,
      "outputs": [
        {
          "output_type": "stream",
          "name": "stdout",
          "text": [
            "{'id_vendedor': '104271', 'valor_emprestimo': '448.0', 'quantidade_emprestimo': '1', 'data': '20161208'}\n",
            "{'id_vendedor': '21476', 'valor_emprestimo': '826.7', 'quantidade_emprestimo': '3', 'data': '20161208'}\n",
            "{'id_vendedor': '87440', 'valor_emprestimo': '313.6', 'quantidade_emprestimo': '3', 'data': '20161208'}\n",
            "{'id_vendedor': '15980', 'valor_emprestimo': '-8008.0', 'quantidade_emprestimo': '6', 'data': '20161208'}\n",
            "{'id_vendedor': '215906', 'valor_emprestimo': '2212.0', 'quantidade_emprestimo': '5', 'data': '20161208'}\n",
            "{'id_vendedor': '33696', 'valor_emprestimo': '2771.3', 'quantidade_emprestimo': '2', 'data': '20161208'}\n",
            "{'id_vendedor': '33893', 'valor_emprestimo': '2240.0', 'quantidade_emprestimo': '3', 'data': '20161208'}\n",
            "{'id_vendedor': '214946', 'valor_emprestimo': '-4151.0', 'quantidade_emprestimo': '18', 'data': '20161208'}\n",
            "{'id_vendedor': '123974', 'valor_emprestimo': '2021.95', 'quantidade_emprestimo': '2', 'data': '20161208'}\n",
            "{'id_vendedor': '225870', 'valor_emprestimo': '4039.0', 'quantidade_emprestimo': '2', 'data': '20161208'}\n"
          ]
        }
      ]
    },
    {
      "cell_type": "code",
      "source": [
        "# Função map\n",
        "\n",
        "valor_emprestimos_lista = list(map(lambda valor_emprestimo: float(valor_emprestimo['valor_emprestimo']), emprestimos))\n",
        "print('\\033[34m=-\\033['*50)\n",
        "print(valor_emprestimos_lista)\n",
        "print('\\033[34m=-\\033['*50)"
      ],
      "metadata": {
        "id": "hrLyalROjUYw",
        "colab": {
          "base_uri": "https://localhost:8080/"
        },
        "outputId": "8c523590-be53-4104-c3e9-77429c545e27"
      },
      "execution_count": 7,
      "outputs": [
        {
          "output_type": "stream",
          "name": "stdout",
          "text": [
            "\u001b[34m=-\u001b[\u001b[34m=-\u001b[\u001b[34m=-\u001b[\u001b[34m=-\u001b[\u001b[34m=-\u001b[\u001b[34m=-\u001b[\u001b[34m=-\u001b[\u001b[34m=-\u001b[\u001b[34m=-\u001b[\u001b[34m=-\u001b[\u001b[34m=-\u001b[\u001b[34m=-\u001b[\u001b[34m=-\u001b[\u001b[34m=-\u001b[\u001b[34m=-\u001b[\u001b[34m=-\u001b[\u001b[34m=-\u001b[\u001b[34m=-\u001b[\u001b[34m=-\u001b[\u001b[34m=-\u001b[\u001b[34m=-\u001b[\u001b[34m=-\u001b[\u001b[34m=-\u001b[\u001b[34m=-\u001b[\u001b[34m=-\u001b[\u001b[34m=-\u001b[\u001b[34m=-\u001b[\u001b[34m=-\u001b[\u001b[34m=-\u001b[\u001b[34m=-\u001b[\u001b[34m=-\u001b[\u001b[34m=-\u001b[\u001b[34m=-\u001b[\u001b[34m=-\u001b[\u001b[34m=-\u001b[\u001b[34m=-\u001b[\u001b[34m=-\u001b[\u001b[34m=-\u001b[\u001b[34m=-\u001b[\u001b[34m=-\u001b[\u001b[34m=-\u001b[\u001b[34m=-\u001b[\u001b[34m=-\u001b[\u001b[34m=-\u001b[\u001b[34m=-\u001b[\u001b[34m=-\u001b[\u001b[34m=-\u001b[\u001b[34m=-\u001b[\u001b[34m=-\u001b[\u001b[34m=-\u001b[\n",
            "[448.0, 826.7, 313.6, -8008.0, 2212.0, 2771.3, 2240.0, -4151.0, 2021.95, 4039.0]\n",
            "\u001b[34m=-\u001b[\u001b[34m=-\u001b[\u001b[34m=-\u001b[\u001b[34m=-\u001b[\u001b[34m=-\u001b[\u001b[34m=-\u001b[\u001b[34m=-\u001b[\u001b[34m=-\u001b[\u001b[34m=-\u001b[\u001b[34m=-\u001b[\u001b[34m=-\u001b[\u001b[34m=-\u001b[\u001b[34m=-\u001b[\u001b[34m=-\u001b[\u001b[34m=-\u001b[\u001b[34m=-\u001b[\u001b[34m=-\u001b[\u001b[34m=-\u001b[\u001b[34m=-\u001b[\u001b[34m=-\u001b[\u001b[34m=-\u001b[\u001b[34m=-\u001b[\u001b[34m=-\u001b[\u001b[34m=-\u001b[\u001b[34m=-\u001b[\u001b[34m=-\u001b[\u001b[34m=-\u001b[\u001b[34m=-\u001b[\u001b[34m=-\u001b[\u001b[34m=-\u001b[\u001b[34m=-\u001b[\u001b[34m=-\u001b[\u001b[34m=-\u001b[\u001b[34m=-\u001b[\u001b[34m=-\u001b[\u001b[34m=-\u001b[\u001b[34m=-\u001b[\u001b[34m=-\u001b[\u001b[34m=-\u001b[\u001b[34m=-\u001b[\u001b[34m=-\u001b[\u001b[34m=-\u001b[\u001b[34m=-\u001b[\u001b[34m=-\u001b[\u001b[34m=-\u001b[\u001b[34m=-\u001b[\u001b[34m=-\u001b[\u001b[34m=-\u001b[\u001b[34m=-\u001b[\u001b[34m=-\u001b[\n"
          ]
        }
      ]
    },
    {
      "cell_type": "code",
      "source": [
        "# Função filter\n",
        "\n",
        "valor_emprestimos_lista_filtrada = list(filter(lambda numero: numero if numero > 0 else print(f'Error, foi encontrado esse número negativo: \\033[31m{numero}\\033['), valor_emprestimos_lista))\n",
        "print('\\033[34m=-\\033['*53)\n",
        "print(f'Esses são os números maiores que zero: \\033[32m{valor_emprestimos_lista_filtrada}\\033[')\n",
        "print('\\033[34m=-\\033['*53)\n",
        "len(valor_emprestimos_lista_filtrada)"
      ],
      "metadata": {
        "colab": {
          "base_uri": "https://localhost:8080/"
        },
        "id": "XxOQMEsN-E9W",
        "outputId": "512d19c2-3606-48ef-eac0-c4875b373e3a"
      },
      "execution_count": 8,
      "outputs": [
        {
          "output_type": "stream",
          "name": "stdout",
          "text": [
            "Error, foi encontrado esse número negativo: \u001b[31m-8008.0\u001b[\n",
            "Error, foi encontrado esse número negativo: \u001b[31m-4151.0\u001b[\n",
            "\u001b[34m=-\u001b[\u001b[34m=-\u001b[\u001b[34m=-\u001b[\u001b[34m=-\u001b[\u001b[34m=-\u001b[\u001b[34m=-\u001b[\u001b[34m=-\u001b[\u001b[34m=-\u001b[\u001b[34m=-\u001b[\u001b[34m=-\u001b[\u001b[34m=-\u001b[\u001b[34m=-\u001b[\u001b[34m=-\u001b[\u001b[34m=-\u001b[\u001b[34m=-\u001b[\u001b[34m=-\u001b[\u001b[34m=-\u001b[\u001b[34m=-\u001b[\u001b[34m=-\u001b[\u001b[34m=-\u001b[\u001b[34m=-\u001b[\u001b[34m=-\u001b[\u001b[34m=-\u001b[\u001b[34m=-\u001b[\u001b[34m=-\u001b[\u001b[34m=-\u001b[\u001b[34m=-\u001b[\u001b[34m=-\u001b[\u001b[34m=-\u001b[\u001b[34m=-\u001b[\u001b[34m=-\u001b[\u001b[34m=-\u001b[\u001b[34m=-\u001b[\u001b[34m=-\u001b[\u001b[34m=-\u001b[\u001b[34m=-\u001b[\u001b[34m=-\u001b[\u001b[34m=-\u001b[\u001b[34m=-\u001b[\u001b[34m=-\u001b[\u001b[34m=-\u001b[\u001b[34m=-\u001b[\u001b[34m=-\u001b[\u001b[34m=-\u001b[\u001b[34m=-\u001b[\u001b[34m=-\u001b[\u001b[34m=-\u001b[\u001b[34m=-\u001b[\u001b[34m=-\u001b[\u001b[34m=-\u001b[\u001b[34m=-\u001b[\u001b[34m=-\u001b[\u001b[34m=-\u001b[\n",
            "Esses são os números maiores que zero: \u001b[32m[448.0, 826.7, 313.6, 2212.0, 2771.3, 2240.0, 2021.95, 4039.0]\u001b[\n",
            "\u001b[34m=-\u001b[\u001b[34m=-\u001b[\u001b[34m=-\u001b[\u001b[34m=-\u001b[\u001b[34m=-\u001b[\u001b[34m=-\u001b[\u001b[34m=-\u001b[\u001b[34m=-\u001b[\u001b[34m=-\u001b[\u001b[34m=-\u001b[\u001b[34m=-\u001b[\u001b[34m=-\u001b[\u001b[34m=-\u001b[\u001b[34m=-\u001b[\u001b[34m=-\u001b[\u001b[34m=-\u001b[\u001b[34m=-\u001b[\u001b[34m=-\u001b[\u001b[34m=-\u001b[\u001b[34m=-\u001b[\u001b[34m=-\u001b[\u001b[34m=-\u001b[\u001b[34m=-\u001b[\u001b[34m=-\u001b[\u001b[34m=-\u001b[\u001b[34m=-\u001b[\u001b[34m=-\u001b[\u001b[34m=-\u001b[\u001b[34m=-\u001b[\u001b[34m=-\u001b[\u001b[34m=-\u001b[\u001b[34m=-\u001b[\u001b[34m=-\u001b[\u001b[34m=-\u001b[\u001b[34m=-\u001b[\u001b[34m=-\u001b[\u001b[34m=-\u001b[\u001b[34m=-\u001b[\u001b[34m=-\u001b[\u001b[34m=-\u001b[\u001b[34m=-\u001b[\u001b[34m=-\u001b[\u001b[34m=-\u001b[\u001b[34m=-\u001b[\u001b[34m=-\u001b[\u001b[34m=-\u001b[\u001b[34m=-\u001b[\u001b[34m=-\u001b[\u001b[34m=-\u001b[\u001b[34m=-\u001b[\u001b[34m=-\u001b[\u001b[34m=-\u001b[\u001b[34m=-\u001b[\n"
          ]
        },
        {
          "output_type": "execute_result",
          "data": {
            "text/plain": [
              "8"
            ]
          },
          "metadata": {},
          "execution_count": 8
        }
      ]
    },
    {
      "cell_type": "code",
      "source": [
        "# Função reduce para extrair a soma\n",
        "\n",
        "from functools import reduce\n",
        "\n",
        "soma_valor_emprestimos = reduce(lambda x, y: x + y, valor_emprestimos_lista_filtrada)\n",
        "print('\\033[34m=-\\033['*10)\n",
        "print(soma_valor_emprestimos)\n",
        "print('\\033[34m=-\\033['*10)"
      ],
      "metadata": {
        "colab": {
          "base_uri": "https://localhost:8080/"
        },
        "id": "tZ3VuhG8taAa",
        "outputId": "b2eba848-1545-4324-b846-458e84536961"
      },
      "execution_count": 65,
      "outputs": [
        {
          "output_type": "stream",
          "name": "stdout",
          "text": [
            "\u001b[34m=-\u001b[\u001b[34m=-\u001b[\u001b[34m=-\u001b[\u001b[34m=-\u001b[\u001b[34m=-\u001b[\u001b[34m=-\u001b[\u001b[34m=-\u001b[\u001b[34m=-\u001b[\u001b[34m=-\u001b[\u001b[34m=-\u001b[\n",
            "14872.550000000001\n",
            "\u001b[34m=-\u001b[\u001b[34m=-\u001b[\u001b[34m=-\u001b[\u001b[34m=-\u001b[\u001b[34m=-\u001b[\u001b[34m=-\u001b[\u001b[34m=-\u001b[\u001b[34m=-\u001b[\u001b[34m=-\u001b[\u001b[34m=-\u001b[\n"
          ]
        }
      ]
    },
    {
      "cell_type": "code",
      "source": [
        "# Media Aritimética\n",
        "\n",
        "from functools import reduce\n",
        "\n",
        "media_valor_emprestimos = reduce(lambda x, y: x + y, valor_emprestimos_lista_filtrada) / len(valor_emprestimos_lista_filtrada)\n",
        "print(media_valor_emprestimos)"
      ],
      "metadata": {
        "colab": {
          "base_uri": "https://localhost:8080/"
        },
        "id": "adC3bZpd6OZN",
        "outputId": "f59b0aeb-78f1-4c67-955a-1e042211d0e8"
      },
      "execution_count": 45,
      "outputs": [
        {
          "output_type": "stream",
          "name": "stdout",
          "text": [
            "1859.0687500000001\n"
          ]
        }
      ]
    },
    {
      "cell_type": "code",
      "source": [
        "# Desvio Padrão\n",
        "\n",
        "from functools import reduce\n",
        "import math\n",
        "\n",
        "\n",
        "desvio_padrao_valor_emprestimos =reduce(lambda x, y: x + (y - media_valor_emprestimos) ** 2, valor_emprestimos_lista_filtrada, 0) / len(valor_emprestimos_lista_filtrada)\n",
        "print(math.sqrt(desvio_padrao_valor_emprestimos))"
      ],
      "metadata": {
        "colab": {
          "base_uri": "https://localhost:8080/"
        },
        "id": "Q5SPoNBPIAu9",
        "outputId": "b0d941e9-ff09-4d64-b8ee-6651b3e689a6"
      },
      "execution_count": 85,
      "outputs": [
        {
          "output_type": "stream",
          "name": "stdout",
          "text": [
            "1189.8444963884722\n"
          ]
        }
      ]
    },
    {
      "cell_type": "code",
      "source": [
        "import statistics\n",
        "\n",
        "desvio_padrao = statistics.stdev(valor_emprestimos_lista_filtrada)\n",
        "print(desvio_padrao)"
      ],
      "metadata": {
        "id": "y4KCmlDOQfda",
        "colab": {
          "base_uri": "https://localhost:8080/"
        },
        "outputId": "dd5d628c-b52c-40eb-a692-0a77ac026327"
      },
      "execution_count": 43,
      "outputs": [
        {
          "output_type": "stream",
          "name": "stdout",
          "text": [
            "1271.997271149785\n"
          ]
        }
      ]
    },
    {
      "cell_type": "code",
      "source": [
        "\n",
        "from functools import reduce\n",
        "import math\n",
        "\n",
        "def calcula_media(lista):\n",
        "  return reduce(lambda x, y: x + y, lista) / len(lista)\n",
        "\n",
        "\n",
        "def calculo_desvio_padrao(lista):\n",
        "  media = calcula_media(lista)\n",
        "  variancia = reduce(lambda x, y: x + (y - media) ** 2, lista, 0) / len(lista)\n",
        "  desvio_padrao = math.sqrt(variancia)\n",
        "  return desvio_padrao\n",
        "\n",
        "\n",
        "\n",
        "lista = [448.0, 826.7, 313.6, 2212.0, 2771.3, 2240.0, 2021.95, 4039.0]\n",
        "\n",
        "desvio_padrao = calculo_desvio_padrao(lista)\n",
        "print(desvio_padrao)\n",
        "\n",
        "\n"
      ],
      "metadata": {
        "colab": {
          "base_uri": "https://localhost:8080/"
        },
        "id": "MPyCg8gom_FN",
        "outputId": "ecbe20f9-f9ab-41e0-edc2-0bd5770aba9f"
      },
      "execution_count": 31,
      "outputs": [
        {
          "output_type": "stream",
          "name": "stdout",
          "text": [
            "1189.8444963884722\n"
          ]
        }
      ]
    },
    {
      "cell_type": "code",
      "source": [
        "lista = [448.0, 826.7, 313.6, 2212.0, 2771.3, 2240.0, 2021.95, 4039.0]\n",
        "round(calcula_media(lista), 2)"
      ],
      "metadata": {
        "id": "VgmAmAuArmw3",
        "colab": {
          "base_uri": "https://localhost:8080/"
        },
        "outputId": "e569761f-56d8-46d6-b6cc-ccb645890de8"
      },
      "execution_count": 16,
      "outputs": [
        {
          "output_type": "execute_result",
          "data": {
            "text/plain": [
              "1859.07"
            ]
          },
          "metadata": {},
          "execution_count": 16
        }
      ]
    },
    {
      "cell_type": "code",
      "source": [
        "import math\n",
        "c = math.sqrt(14872.550000000001)\n",
        "print(c)"
      ],
      "metadata": {
        "colab": {
          "base_uri": "https://localhost:8080/"
        },
        "id": "d9fyIJOxvwRV",
        "outputId": "ce864697-ceb9-46b7-d71a-3f83f79a83d6"
      },
      "execution_count": 72,
      "outputs": [
        {
          "output_type": "stream",
          "name": "stdout",
          "text": [
            "121.95306474213758\n"
          ]
        }
      ]
    },
    {
      "cell_type": "code",
      "source": [
        "from functools import reduce\n",
        "\n",
        "c = media_valor_emprestimos\n",
        "\n",
        "variancia = reduce(lambda x, y: (x - c)**2 + (y -c )** 2 , lista) / len(lista)\n",
        "print(variancia)"
      ],
      "metadata": {
        "id": "Yk0z6K8iczlt"
      },
      "execution_count": null,
      "outputs": []
    },
    {
      "cell_type": "code",
      "source": [
        "d = []\n",
        "\n",
        "for variancia in lista:\n",
        "  f = (variancia - c) ** 2\n",
        "  d.append(f)\n",
        "  print(d)"
      ],
      "metadata": {
        "colab": {
          "base_uri": "https://localhost:8080/"
        },
        "id": "qn0fP7Z_lshI",
        "outputId": "ad5e7efd-d3c2-40e2-b2ee-28c6cce31946"
      },
      "execution_count": 103,
      "outputs": [
        {
          "output_type": "stream",
          "name": "stdout",
          "text": [
            "[1991115.0172265628]\n",
            "[1991115.0172265628, 1065785.2359765626]\n",
            "[1991115.0172265628, 1065785.2359765626, 2388473.6572265625]\n",
            "[1991115.0172265628, 1065785.2359765626, 2388473.6572265625, 124560.46722656241]\n",
            "[1991115.0172265628, 1065785.2359765626, 2388473.6572265625, 124560.46722656241, 832165.8534765625]\n",
            "[1991115.0172265628, 1065785.2359765626, 2388473.6572265625, 124560.46722656241, 832165.8534765625, 145108.6172265624]\n",
            "[1991115.0172265628, 1065785.2359765626, 2388473.6572265625, 124560.46722656241, 832165.8534765625, 145108.6172265624, 26530.30160156247]\n",
            "[1991115.0172265628, 1065785.2359765626, 2388473.6572265625, 124560.46722656241, 832165.8534765625, 145108.6172265624, 26530.30160156247, 4752100.254726561]\n"
          ]
        }
      ]
    },
    {
      "cell_type": "code",
      "source": [
        "\n",
        "from functools import reduce\n",
        "import math\n",
        "\n",
        "desvio_padrao = reduce(lambda x, y: x + y, d) / len(d)\n",
        "print(math.sqrt(desvio_padrao))\n",
        ""
      ],
      "metadata": {
        "colab": {
          "base_uri": "https://localhost:8080/"
        },
        "id": "xLD4Fjp_mXz3",
        "outputId": "c8752a27-7ccd-44dc-d9d3-9bf3a6217df8"
      },
      "execution_count": 108,
      "outputs": [
        {
          "output_type": "stream",
          "name": "stdout",
          "text": [
            "1189.8444963884722\n"
          ]
        }
      ]
    }
  ]
}