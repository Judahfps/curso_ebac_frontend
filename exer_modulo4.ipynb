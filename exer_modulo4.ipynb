{
  "nbformat": 4,
  "nbformat_minor": 0,
  "metadata": {
    "colab": {
      "provenance": [],
      "authorship_tag": "ABX9TyOq6qKZxq8IDxZKb17+6Xhs",
      "include_colab_link": true
    },
    "kernelspec": {
      "name": "python3",
      "display_name": "Python 3"
    },
    "language_info": {
      "name": "python"
    }
  },
  "cells": [
    {
      "cell_type": "markdown",
      "metadata": {
        "id": "view-in-github",
        "colab_type": "text"
      },
      "source": [
        "<a href=\"https://colab.research.google.com/github/Judahfps/curso_ebac_frontend/blob/main/exer_modulo4.ipynb\" target=\"_parent\"><img src=\"https://colab.research.google.com/assets/colab-badge.svg\" alt=\"Open In Colab\"/></a>"
      ]
    },
    {
      "cell_type": "code",
      "source": [
        "%%writefile carros.csv\n",
        "id,valor_venda,valor_manutencao,portas,pessoas,porta_malas\n",
        "1,vhigh,med,2,2,small\n",
        "2,med,vhigh,2,2,small\n",
        "3,low,vhigh,2,2,small\n",
        "4,low,high,2,2,small\n",
        "5,low,high,2,2,small\n",
        "6,low,high,4,4,big\n",
        "7,low,high,4,4,big\n",
        "8,low,med,2,2,small\n",
        "9,low,med,2,2,small\n",
        "10,low,med,2,2,small\n",
        "11,low,med,4,4,big\n",
        "12,low,low,2,2,small\n",
        "13,low,low,4,4,small\n",
        "14,low,low,4,4,med\n"
      ],
      "metadata": {
        "colab": {
          "base_uri": "https://localhost:8080/"
        },
        "id": "AwudCtfTH5U8",
        "outputId": "cef0c962-88aa-4684-ecbf-a33db773a6a9"
      },
      "execution_count": 1,
      "outputs": [
        {
          "output_type": "stream",
          "name": "stdout",
          "text": [
            "Writing carros.csv\n"
          ]
        }
      ]
    },
    {
      "cell_type": "code",
      "source": [
        "%%writefile musica.txt\n",
        "Roda Viva\n",
        "Chico Buarque\n",
        "Tem dias que a gente se sente\n",
        "Como quem partiu ou morreu\n",
        "A gente estancou de repente\n",
        "Ou foi o mundo então que cresceu\n",
        "A gente quer ter voz ativa\n",
        "No nosso destino mandar\n",
        "Mas eis que chega a roda viva\n",
        "E carrega o destino pra lá\n",
        "Roda mundo, roda-gigante\n",
        "Roda moinho, roda pião\n",
        "O tempo rodou num instante\n",
        "Nas voltas do meu coração\n",
        "A gente vai contra a corrente\n",
        "Até não poder resistir\n",
        "Na volta do barco é que sente\n",
        "O quanto deixou de cumprir\n",
        "Faz tempo que a gente cultiva\n",
        "A mais linda roseira que há\n",
        "Mas eis que chega a roda viva\n",
        "E carrega a roseira pra lá\n",
        "Roda mundo, roda-gigante\n",
        "Roda moinho, roda pião"
      ],
      "metadata": {
        "id": "gnMxn82_H7M8",
        "colab": {
          "base_uri": "https://localhost:8080/"
        },
        "outputId": "d68a8331-3b60-410a-a580-828747f8e0bb"
      },
      "execution_count": 2,
      "outputs": [
        {
          "output_type": "stream",
          "name": "stdout",
          "text": [
            "Writing musica.txt\n"
          ]
        }
      ]
    },
    {
      "cell_type": "code",
      "source": [
        "def extrai_coluna_csv(nome_arquivo: str, indice_coluna: int, tipo_dado: str):\n",
        "\n",
        "  coluna = []\n",
        "  with open(file= './carros.csv', mode='r', encoding='utf8') as arquivo:\n",
        "    linha = arquivo.readline()\n",
        "    linha = arquivo.readline()\n",
        "    while linha:\n",
        "      linha_separada = linha.split(sep=',')\n",
        "      linha = linha_separada[indice_coluna]\n",
        "      if tipo_dado == 'str':\n",
        "        coluna.append(linha)\n",
        "      elif tipo_dado == 'int':\n",
        "        coluna.append(linha)\n",
        "      else:\n",
        "        print('Valor não encontrado')\n",
        "\n",
        "      linha = arquivo.readline()\n",
        "\n",
        "  return coluna\n"
      ],
      "metadata": {
        "id": "4NXsJIIRH_rH"
      },
      "execution_count": 26,
      "outputs": []
    },
    {
      "cell_type": "code",
      "source": [
        "\n",
        "valor_venda = extrai_coluna_csv(nome_arquivo= './carros.csv', indice_coluna= 1, tipo_dado=  'str')\n",
        "print(valor_venda)\n",
        "print(type(valor_venda))\n"
      ],
      "metadata": {
        "id": "s8uexua3eHD2"
      },
      "execution_count": null,
      "outputs": []
    },
    {
      "cell_type": "code",
      "source": [
        "valor_venda = extrai_coluna_csv(nome_arquivo= './carros.csv', indice_coluna= 4, tipo_dado= 'int')\n",
        "print(valor_venda)"
      ],
      "metadata": {
        "id": "0KN7CMpSdUad"
      },
      "execution_count": null,
      "outputs": []
    },
    {
      "cell_type": "code",
      "source": [
        "\n",
        "def extrai_linha_txt(nome_arquivo: str, numero_linha: int):\n",
        "\n",
        "  palavras_linha =[]\n",
        "\n",
        "  with open(file='./musica.txt', mode= 'r', encoding= 'utf8') as estrofe:\n",
        "    linha = estrofe.readlines()\n",
        "    while linha:\n",
        "      linha_separada = linha[numero_linha-2]\n",
        "      linha = linha_separada.split()\n",
        "      palavras_linha.append(linha)\n",
        "\n",
        "\n",
        "      linha = estrofe.readlines()\n",
        "\n",
        "\n",
        "  return palavras_linha"
      ],
      "metadata": {
        "id": "VCP9qHXgd2zZ"
      },
      "execution_count": 78,
      "outputs": []
    },
    {
      "cell_type": "code",
      "source": [
        "linha10 = extrai_linha_txt(nome_arquivo= './musica.txt', numero_linha= 10)\n",
        "print(linha10)\n",
        "print(type(linha10))"
      ],
      "metadata": {
        "id": "yWPT0E3dgq6K"
      },
      "execution_count": null,
      "outputs": []
    },
    {
      "cell_type": "markdown",
      "source": [
        "Professor eu consegui fazer essa questão do arquivo.txt, só que ainda estou em dúvidas sobre o assunto em arquivo.txt, sobre como percorrer esse tipo de arquivo.\n",
        "Queria saber se o senhor tem mas uma play list de exercícios desse assunto, gostaria de praticar mas.\n",
        "Desde já parabenizar pelo conteúdo ensinado muito top, muito top mesmo."
      ],
      "metadata": {
        "id": "bFc2VidpRa7F"
      }
    }
  ]
}