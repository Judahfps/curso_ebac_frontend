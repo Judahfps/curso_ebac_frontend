{
  "nbformat": 4,
  "nbformat_minor": 0,
  "metadata": {
    "colab": {
      "provenance": [],
      "mount_file_id": "17kOuQAXXyURYk7Rs0aJSXvGmPjS7wuqg",
      "authorship_tag": "ABX9TyOIGZlY09lxYxLBrb8Re0iM",
      "include_colab_link": true
    },
    "kernelspec": {
      "name": "python3",
      "display_name": "Python 3"
    },
    "language_info": {
      "name": "python"
    }
  },
  "cells": [
    {
      "cell_type": "markdown",
      "metadata": {
        "id": "view-in-github",
        "colab_type": "text"
      },
      "source": [
        "<a href=\"https://colab.research.google.com/github/Judahfps/curso_ebac_frontend/blob/main/C%C3%B3pia_de_exer_modulo02.ipynb\" target=\"_parent\"><img src=\"https://colab.research.google.com/assets/colab-badge.svg\" alt=\"Open In Colab\"/></a>"
      ]
    },
    {
      "cell_type": "code",
      "execution_count": null,
      "metadata": {
        "id": "vmtDsWHbmUmM"
      },
      "outputs": [],
      "source": [
        "print('=-'*150)\n",
        "print(' '*130, 'Exercício Módulo 02')\n",
        "print('=-'*150)\n",
        "filmes = ['Um Sonho de Liberdade', 'O Poderoso Chefão', 'Batman- O Cavaleiro das Trevas',\n",
        "          'O Poderoso Chefão 2', 'Homens e uma Sentença', 'A Lista de Schindler',\n",
        "          'O Senhor dos Anéis: O Retorno do Rei', 'Pulp Fiction de Violência',\n",
        "          'O Senhor dos Anéis: A Sociedade do Anel', 'Três Homens em Conflito']\n",
        "print(filmes)\n"
      ]
    },
    {
      "cell_type": "code",
      "source": [
        "print('=-'*150)\n",
        "print(' '*130, 'Simulando Ranking')\n",
        "print('=-'*150)\n",
        "ranking_1 = filmes.pop(0)\n",
        "ranking_2 = filmes.pop(0)\n",
        "\n",
        "filmes.insert(0, ranking_2)\n",
        "filmes.insert(1, ranking_1)\n",
        "print(filmes)\n"
      ],
      "metadata": {
        "id": "GVCVY3SZYEA-"
      },
      "execution_count": null,
      "outputs": []
    },
    {
      "cell_type": "code",
      "source": [
        "filmes = ['Um Sonho de Liberdade', 'O Poderoso Chefão', 'Batman- O Cavaleiro das Trevas',\n",
        "          'O Poderoso Chefão 2', 'Homens e uma Sentença', 'A Lista de Schindler',\n",
        "          'O Senhor dos Anéis: O Retorno do Rei', 'Pulp Fiction de Violência',\n",
        "          'O Senhor dos Anéis: A Sociedade do Anel', 'Três Homens em Conflito', 'Pulp Fiction de Violência',\n",
        "          'O Senhor dos Anéis: A Sociedade do Anel', 'Três Homens em Conflito']\n",
        "\n",
        "print('=-'*200)\n",
        "print(' '*180, 'Simulando Erros de Duplicidades')\n",
        "print('=-'*200)\n",
        "print(filmes)\n",
        "print('=-'*200)\n",
        "filmes_set = set(filmes)\n",
        "print(filmes_set)\n",
        "print('=-'*200)\n",
        "print(type(filmes_set))\n",
        "print('=-'*200)\n",
        "filmes = list(filmes_set)\n",
        "print(filmes)\n",
        "print('=-'*200)\n",
        "print(type(filmes))"
      ],
      "metadata": {
        "id": "43WXE_0Jibv8"
      },
      "execution_count": null,
      "outputs": []
    },
    {
      "cell_type": "code",
      "source": [],
      "metadata": {
        "id": "FeH2d0EZ1H_p"
      },
      "execution_count": null,
      "outputs": []
    },
    {
      "cell_type": "code",
      "source": [
        "print('=-'*150)\n",
        "print(' '*125, 'Criando um Dicionario com nome de Filmes')\n",
        "print('=-'*150)\n",
        "filmes = {\n",
        "    'ranking_01': {\n",
        "        'nome': 'Um Sonho de Liberdade',\n",
        "        'ano_lancamento': 1994,\n",
        "        'sinopse': 'Dois homens presos se reúnem ao longo de vários anos, encontrando consolo e eventual redenção através de atos de decência comum.'\n",
        "    },\n",
        "    'ranking_02': {\n",
        "        'nome': 'O Poderoso Chefão',\n",
        "        'ano_lancamento': 1972,\n",
        "        'sinopse': 'O patriarca idoso de uma dinastia do crime organizado transfere o controle de seu império clandestino para seu filho relutante.'\n",
        "\n",
        "    },\n",
        "    'ranking_03': {\n",
        "        'nome': 'Batman- O Cavaleiro das Trevas',\n",
        "        'ano_lancamento': 2008,\n",
        "        'sinopse': 'Agora com a ajuda do tenente Jim Gordon e do promotor público Harvey Dent, Batman tem tudo para banir o crime de Gotham City de uma vez por todas. Mas em breve, os três serão vítimas do Coringa, que pretende lançar Gotham em uma anarquia.'\n",
        "    },\n",
        "    'ranking_04': {\n",
        "        'nome': 'O Poderoso Chefão 2',\n",
        "        'ano_lancamento': 1974,\n",
        "        'sinopse': 'Em 1950, Michael Corleone, agora à frente da família, tenta expandir o negócio do crime a Las Vegas, Los Angeles e Cuba. Paralelamente, é revelada a história de Vito Corleone, e de como saiu da Sicília e chegou a Nova Iorque.'\n",
        "    },\n",
        "    'ranking_05': {\n",
        "        'nome': 'Homens e uma Sentença',\n",
        "        'ano_lancamento': '1957',\n",
        "        'sinopse': 'O julgamento de um assassinato em Nova Iorque é frustrado por um único membro, cujo ceticismo força o júri a considerar cuidadosamente as evidências antes de dar o veredito.'\n",
        "    },\n",
        "    'ranking_06': {\n",
        "        'nome':'A Lista de Schindler',\n",
        "        'ano_lancamento': 1993,\n",
        "        'sinopse': 'Na Polônia ocupada pelos alemães durante a Segunda Guerra Mundial, o industrial Oskar Schindler começa a ser preocupar com seus trabalhadores judeus depois de testemunhar sua perseguição pelos nazistas.'\n",
        "    },\n",
        "    'ranking_07': {\n",
        "        'nome': 'O Senhor dos Anéis: O Retorno do Rei',\n",
        "        'ano_lancamento': 2003,\n",
        "        'sinopse': 'Gandalf e Aragorn lideram o Mundo dos Homens contra o exército de Sauron para desviar o olhar de Frodo e Sam quando eles se aproximam á Montanha da Perdição com o Um Anel.'\n",
        "    },\n",
        "    'ranking_08': {\n",
        "        'nome': 'Pulp Fiction de Violência',\n",
        "        'ano_lancamento':1994,\n",
        "        'sinopse': 'As vidas de dois assassinos da máfia, um boxeador, um gângster e sua esposa, e um par de bandidos se entrelaçam em quatro histórias de violência e redenção.'\n",
        "    },\n",
        "    'ranking_09': {\n",
        "        'nome': 'O Senhor dos Anéis: A Sociedade do Anel',\n",
        "        'ano_lancamento': 2001,\n",
        "        'sinopse': 'Um manso hobbit do Condado e oito companheiros partem em uma jornada para destruir o poderoso Um Anel e salvar a Terra-média das Trevas.'\n",
        "\n",
        "    },\n",
        "    'ranking_10': {\n",
        "        'nome': 'Três Homens em Conflito',\n",
        "        'ano_lancamento': 1966,\n",
        "        'sinopse': 'Um impostor se junta com dois homens para encontrar fortuna num remoto cemitério.'\n",
        "    }\n",
        "}\n",
        "filmes['ranking_05']['nome']\n",
        "\n",
        "\n"
      ],
      "metadata": {
        "id": "_C_o9qy1kwKB",
        "colab": {
          "base_uri": "https://localhost:8080/",
          "height": 109
        },
        "outputId": "461d6a82-5f8c-412a-d451-26c17305336e"
      },
      "execution_count": 12,
      "outputs": [
        {
          "output_type": "stream",
          "name": "stdout",
          "text": [
            "=-=-=-=-=-=-=-=-=-=-=-=-=-=-=-=-=-=-=-=-=-=-=-=-=-=-=-=-=-=-=-=-=-=-=-=-=-=-=-=-=-=-=-=-=-=-=-=-=-=-=-=-=-=-=-=-=-=-=-=-=-=-=-=-=-=-=-=-=-=-=-=-=-=-=-=-=-=-=-=-=-=-=-=-=-=-=-=-=-=-=-=-=-=-=-=-=-=-=-=-=-=-=-=-=-=-=-=-=-=-=-=-=-=-=-=-=-=-=-=-=-=-=-=-=-=-=-=-=-=-=-=-=-=-=-=-=-=-=-=-=-=-=-=-=-=-=-=-=-=-\n",
            "                                                                                                                              Criando um Dicionario com nome de Filmes\n",
            "=-=-=-=-=-=-=-=-=-=-=-=-=-=-=-=-=-=-=-=-=-=-=-=-=-=-=-=-=-=-=-=-=-=-=-=-=-=-=-=-=-=-=-=-=-=-=-=-=-=-=-=-=-=-=-=-=-=-=-=-=-=-=-=-=-=-=-=-=-=-=-=-=-=-=-=-=-=-=-=-=-=-=-=-=-=-=-=-=-=-=-=-=-=-=-=-=-=-=-=-=-=-=-=-=-=-=-=-=-=-=-=-=-=-=-=-=-=-=-=-=-=-=-=-=-=-=-=-=-=-=-=-=-=-=-=-=-=-=-=-=-=-=-=-=-=-=-=-=-=-\n"
          ]
        },
        {
          "output_type": "execute_result",
          "data": {
            "text/plain": [
              "'Homens e uma Sentença'"
            ],
            "application/vnd.google.colaboratory.intrinsic+json": {
              "type": "string"
            }
          },
          "metadata": {},
          "execution_count": 12
        }
      ]
    }
  ]
}